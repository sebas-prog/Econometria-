{
 "cells": [
  {
   "cell_type": "code",
   "execution_count": 1,
   "metadata": {
    "colab": {},
    "colab_type": "code",
    "executionInfo": {
     "elapsed": 2325,
     "status": "ok",
     "timestamp": 1598776127131,
     "user": {
      "displayName": "K&G",
      "photoUrl": "https://lh3.googleusercontent.com/a-/AOh14GjQVaumWhZIDKqccYE-sTwkiM8r_K8VFADW0TAy=s64",
      "userId": "11703084203318322732"
     },
     "user_tz": -120
    },
    "id": "tbJ4W2JLDfVo"
   },
   "outputs": [],
   "source": [
    " import sys,tweepy,csv,re"
   ]
  },
  {
   "cell_type": "code",
   "execution_count": 2,
   "metadata": {
    "colab": {},
    "colab_type": "code",
    "executionInfo": {
     "elapsed": 3628,
     "status": "ok",
     "timestamp": 1598776128459,
     "user": {
      "displayName": "K&G",
      "photoUrl": "https://lh3.googleusercontent.com/a-/AOh14GjQVaumWhZIDKqccYE-sTwkiM8r_K8VFADW0TAy=s64",
      "userId": "11703084203318322732"
     },
     "user_tz": -120
    },
    "id": "3I7bMN1RFV-D"
   },
   "outputs": [],
   "source": [
    "from textblob import TextBlob\n",
    "import matplotlib.pyplot as plt"
   ]
  },
  {
   "cell_type": "code",
   "execution_count": 3,
   "metadata": {
    "colab": {},
    "colab_type": "code",
    "executionInfo": {
     "elapsed": 3623,
     "status": "ok",
     "timestamp": 1598776128468,
     "user": {
      "displayName": "K&G",
      "photoUrl": "https://lh3.googleusercontent.com/a-/AOh14GjQVaumWhZIDKqccYE-sTwkiM8r_K8VFADW0TAy=s64",
      "userId": "11703084203318322732"
     },
     "user_tz": -120
    },
    "id": "p3NpnlDhxNZl"
   },
   "outputs": [],
   "source": [
    "consumerKey = 'ZrxdSQBRJ0wgDDF7lcPF13LXb'\n",
    "consumerSecret = 'eM7twoZzKfnXsIO8dG3bn8FmAC4Wyjy0Z0cwCin1SbrUmO06VH'\n",
    "accessToken = '1253408164206215169-PqGnCR49RKQa96GfFEL4UjBb1EuVWW'\n",
    "accessTokenSecret = 'mOq8Isj3YrK1RDeTKA7TbJ2GYwaOKdk6VzJltP2bEEXhQ'"
   ]
  },
  {
   "cell_type": "code",
   "execution_count": 3,
   "metadata": {
    "colab": {},
    "colab_type": "code",
    "executionInfo": {
     "elapsed": 3618,
     "status": "ok",
     "timestamp": 1598776128475,
     "user": {
      "displayName": "K&G",
      "photoUrl": "https://lh3.googleusercontent.com/a-/AOh14GjQVaumWhZIDKqccYE-sTwkiM8r_K8VFADW0TAy=s64",
      "userId": "11703084203318322732"
     },
     "user_tz": -120
    },
    "id": "v_zGVs3a0c7c"
   },
   "outputs": [],
   "source": []
  },
  {
   "cell_type": "markdown",
   "metadata": {
    "colab_type": "text",
    "id": "b9tdKGOy0dsE"
   },
   "source": [
    "# Extracción de Información"
   ]
  },
  {
   "cell_type": "code",
   "execution_count": 4,
   "metadata": {
    "colab": {},
    "colab_type": "code",
    "executionInfo": {
     "elapsed": 3613,
     "status": "ok",
     "timestamp": 1598776128480,
     "user": {
      "displayName": "K&G",
      "photoUrl": "https://lh3.googleusercontent.com/a-/AOh14GjQVaumWhZIDKqccYE-sTwkiM8r_K8VFADW0TAy=s64",
      "userId": "11703084203318322732"
     },
     "user_tz": -120
    },
    "id": "lRalNFXuBCqC"
   },
   "outputs": [],
   "source": [
    " def DownloadData(searchTerm,NoOfTerms):\n",
    "        # authenticating\n",
    "        auth = tweepy.OAuthHandler(consumerKey, consumerSecret)\n",
    "        auth.set_access_token(accessToken, accessTokenSecret)\n",
    "        api = tweepy.API(auth)\n",
    "\n",
    "      \n",
    "\n",
    "        # searching for tweets\n",
    "        tweets = tweepy.Cursor(api.search, q=searchTerm, lang = \"en\",).items(NoOfTerms)\n",
    "        return tweets\n"
   ]
  },
  {
   "cell_type": "markdown",
   "metadata": {
    "colab_type": "text",
    "id": "JYMQ4fYy0ZeF"
   },
   "source": [
    "# Recolección de datos\n"
   ]
  },
  {
   "cell_type": "code",
   "execution_count": 10,
   "metadata": {
    "colab": {
     "base_uri": "https://localhost:8080/",
     "height": 52
    },
    "colab_type": "code",
    "executionInfo": {
     "elapsed": 21360,
     "status": "ok",
     "timestamp": 1598776293177,
     "user": {
      "displayName": "K&G",
      "photoUrl": "https://lh3.googleusercontent.com/a-/AOh14GjQVaumWhZIDKqccYE-sTwkiM8r_K8VFADW0TAy=s64",
      "userId": "11703084203318322732"
     },
     "user_tz": -120
    },
    "id": "YOae0Q8ZCJkB",
    "outputId": "82a05cf8-9e4c-49e3-b735-190548a54a53"
   },
   "outputs": [
    {
     "name": "stdout",
     "output_type": "stream",
     "text": [
      "Enter Keyword/Tag to search about: 'Messi'\n",
      "Enter how many tweets to search: 10\n"
     ]
    }
   ],
   "source": [
    "searchTerm = input(\"Enter Keyword/Tag to search about: \")\n",
    "NoOfTerms = int(input(\"Enter how many tweets to search: \"))\n",
    "tweets = DownloadData(searchTerm,NoOfTerms)"
   ]
  },
  {
   "cell_type": "code",
   "execution_count": 11,
   "metadata": {
    "colab": {
     "base_uri": "https://localhost:8080/",
     "height": 330
    },
    "colab_type": "code",
    "executionInfo": {
     "elapsed": 944,
     "status": "error",
     "timestamp": 1598776298145,
     "user": {
      "displayName": "K&G",
      "photoUrl": "https://lh3.googleusercontent.com/a-/AOh14GjQVaumWhZIDKqccYE-sTwkiM8r_K8VFADW0TAy=s64",
      "userId": "11703084203318322732"
     },
     "user_tz": -120
    },
    "id": "4gdedg3YLN0K",
    "outputId": "a8ea30cb-4d54-41de-afda-57558e71cc26"
   },
   "outputs": [
    {
     "ename": "TweepError",
     "evalue": "ignored",
     "output_type": "error",
     "traceback": [
      "\u001b[0;31m---------------------------------------------------------------------------\u001b[0m",
      "\u001b[0;31mTweepError\u001b[0m                                Traceback (most recent call last)",
      "\u001b[0;32m<ipython-input-11-d37d779e99c8>\u001b[0m in \u001b[0;36m<module>\u001b[0;34m()\u001b[0m\n\u001b[0;32m----> 1\u001b[0;31m \u001b[0;32mfor\u001b[0m \u001b[0melement\u001b[0m \u001b[0;32min\u001b[0m \u001b[0mtweets\u001b[0m\u001b[0;34m:\u001b[0m\u001b[0;34m\u001b[0m\u001b[0;34m\u001b[0m\u001b[0m\n\u001b[0m\u001b[1;32m      2\u001b[0m   \u001b[0mprint\u001b[0m\u001b[0;34m(\u001b[0m\u001b[0melement\u001b[0m\u001b[0;34m)\u001b[0m\u001b[0;34m\u001b[0m\u001b[0;34m\u001b[0m\u001b[0m\n",
      "\u001b[0;32m/usr/local/lib/python3.6/dist-packages/tweepy/cursor.py\u001b[0m in \u001b[0;36m__next__\u001b[0;34m(self)\u001b[0m\n\u001b[1;32m     47\u001b[0m \u001b[0;34m\u001b[0m\u001b[0m\n\u001b[1;32m     48\u001b[0m     \u001b[0;32mdef\u001b[0m \u001b[0m__next__\u001b[0m\u001b[0;34m(\u001b[0m\u001b[0mself\u001b[0m\u001b[0;34m)\u001b[0m\u001b[0;34m:\u001b[0m\u001b[0;34m\u001b[0m\u001b[0;34m\u001b[0m\u001b[0m\n\u001b[0;32m---> 49\u001b[0;31m         \u001b[0;32mreturn\u001b[0m \u001b[0mself\u001b[0m\u001b[0;34m.\u001b[0m\u001b[0mnext\u001b[0m\u001b[0;34m(\u001b[0m\u001b[0;34m)\u001b[0m\u001b[0;34m\u001b[0m\u001b[0;34m\u001b[0m\u001b[0m\n\u001b[0m\u001b[1;32m     50\u001b[0m \u001b[0;34m\u001b[0m\u001b[0m\n\u001b[1;32m     51\u001b[0m     \u001b[0;32mdef\u001b[0m \u001b[0mnext\u001b[0m\u001b[0;34m(\u001b[0m\u001b[0mself\u001b[0m\u001b[0;34m)\u001b[0m\u001b[0;34m:\u001b[0m\u001b[0;34m\u001b[0m\u001b[0;34m\u001b[0m\u001b[0m\n",
      "\u001b[0;32m/usr/local/lib/python3.6/dist-packages/tweepy/cursor.py\u001b[0m in \u001b[0;36mnext\u001b[0;34m(self)\u001b[0m\n\u001b[1;32m    195\u001b[0m         \u001b[0;32mif\u001b[0m \u001b[0mself\u001b[0m\u001b[0;34m.\u001b[0m\u001b[0mcurrent_page\u001b[0m \u001b[0;32mis\u001b[0m \u001b[0;32mNone\u001b[0m \u001b[0;32mor\u001b[0m \u001b[0mself\u001b[0m\u001b[0;34m.\u001b[0m\u001b[0mpage_index\u001b[0m \u001b[0;34m==\u001b[0m \u001b[0mlen\u001b[0m\u001b[0;34m(\u001b[0m\u001b[0mself\u001b[0m\u001b[0;34m.\u001b[0m\u001b[0mcurrent_page\u001b[0m\u001b[0;34m)\u001b[0m \u001b[0;34m-\u001b[0m \u001b[0;36m1\u001b[0m\u001b[0;34m:\u001b[0m\u001b[0;34m\u001b[0m\u001b[0;34m\u001b[0m\u001b[0m\n\u001b[1;32m    196\u001b[0m             \u001b[0;31m# Reached end of current page, get the next page...\u001b[0m\u001b[0;34m\u001b[0m\u001b[0;34m\u001b[0m\u001b[0;34m\u001b[0m\u001b[0m\n\u001b[0;32m--> 197\u001b[0;31m             \u001b[0mself\u001b[0m\u001b[0;34m.\u001b[0m\u001b[0mcurrent_page\u001b[0m \u001b[0;34m=\u001b[0m \u001b[0mself\u001b[0m\u001b[0;34m.\u001b[0m\u001b[0mpage_iterator\u001b[0m\u001b[0;34m.\u001b[0m\u001b[0mnext\u001b[0m\u001b[0;34m(\u001b[0m\u001b[0;34m)\u001b[0m\u001b[0;34m\u001b[0m\u001b[0;34m\u001b[0m\u001b[0m\n\u001b[0m\u001b[1;32m    198\u001b[0m             \u001b[0mself\u001b[0m\u001b[0;34m.\u001b[0m\u001b[0mpage_index\u001b[0m \u001b[0;34m=\u001b[0m \u001b[0;34m-\u001b[0m\u001b[0;36m1\u001b[0m\u001b[0;34m\u001b[0m\u001b[0;34m\u001b[0m\u001b[0m\n\u001b[1;32m    199\u001b[0m         \u001b[0mself\u001b[0m\u001b[0;34m.\u001b[0m\u001b[0mpage_index\u001b[0m \u001b[0;34m+=\u001b[0m \u001b[0;36m1\u001b[0m\u001b[0;34m\u001b[0m\u001b[0;34m\u001b[0m\u001b[0m\n",
      "\u001b[0;32m/usr/local/lib/python3.6/dist-packages/tweepy/cursor.py\u001b[0m in \u001b[0;36mnext\u001b[0;34m(self)\u001b[0m\n\u001b[1;32m    106\u001b[0m \u001b[0;34m\u001b[0m\u001b[0m\n\u001b[1;32m    107\u001b[0m         \u001b[0;32mif\u001b[0m \u001b[0mself\u001b[0m\u001b[0;34m.\u001b[0m\u001b[0mindex\u001b[0m \u001b[0;34m>=\u001b[0m \u001b[0mlen\u001b[0m\u001b[0;34m(\u001b[0m\u001b[0mself\u001b[0m\u001b[0;34m.\u001b[0m\u001b[0mresults\u001b[0m\u001b[0;34m)\u001b[0m \u001b[0;34m-\u001b[0m \u001b[0;36m1\u001b[0m\u001b[0;34m:\u001b[0m\u001b[0;34m\u001b[0m\u001b[0;34m\u001b[0m\u001b[0m\n\u001b[0;32m--> 108\u001b[0;31m             \u001b[0mdata\u001b[0m \u001b[0;34m=\u001b[0m \u001b[0mself\u001b[0m\u001b[0;34m.\u001b[0m\u001b[0mmethod\u001b[0m\u001b[0;34m(\u001b[0m\u001b[0mmax_id\u001b[0m\u001b[0;34m=\u001b[0m\u001b[0mself\u001b[0m\u001b[0;34m.\u001b[0m\u001b[0mmax_id\u001b[0m\u001b[0;34m,\u001b[0m \u001b[0mparser\u001b[0m\u001b[0;34m=\u001b[0m\u001b[0mRawParser\u001b[0m\u001b[0;34m(\u001b[0m\u001b[0;34m)\u001b[0m\u001b[0;34m,\u001b[0m \u001b[0;34m*\u001b[0m\u001b[0mself\u001b[0m\u001b[0;34m.\u001b[0m\u001b[0margs\u001b[0m\u001b[0;34m,\u001b[0m \u001b[0;34m**\u001b[0m\u001b[0mself\u001b[0m\u001b[0;34m.\u001b[0m\u001b[0mkargs\u001b[0m\u001b[0;34m)\u001b[0m\u001b[0;34m\u001b[0m\u001b[0;34m\u001b[0m\u001b[0m\n\u001b[0m\u001b[1;32m    109\u001b[0m \u001b[0;34m\u001b[0m\u001b[0m\n\u001b[1;32m    110\u001b[0m             \u001b[0;32mif\u001b[0m \u001b[0mhasattr\u001b[0m\u001b[0;34m(\u001b[0m\u001b[0mself\u001b[0m\u001b[0;34m.\u001b[0m\u001b[0mmethod\u001b[0m\u001b[0;34m,\u001b[0m \u001b[0;34m'__self__'\u001b[0m\u001b[0;34m)\u001b[0m\u001b[0;34m:\u001b[0m\u001b[0;34m\u001b[0m\u001b[0;34m\u001b[0m\u001b[0m\n",
      "\u001b[0;32m/usr/local/lib/python3.6/dist-packages/tweepy/binder.py\u001b[0m in \u001b[0;36m_call\u001b[0;34m(*args, **kwargs)\u001b[0m\n\u001b[1;32m    248\u001b[0m             \u001b[0;32mreturn\u001b[0m \u001b[0mmethod\u001b[0m\u001b[0;34m\u001b[0m\u001b[0;34m\u001b[0m\u001b[0m\n\u001b[1;32m    249\u001b[0m         \u001b[0;32melse\u001b[0m\u001b[0;34m:\u001b[0m\u001b[0;34m\u001b[0m\u001b[0;34m\u001b[0m\u001b[0m\n\u001b[0;32m--> 250\u001b[0;31m             \u001b[0;32mreturn\u001b[0m \u001b[0mmethod\u001b[0m\u001b[0;34m.\u001b[0m\u001b[0mexecute\u001b[0m\u001b[0;34m(\u001b[0m\u001b[0;34m)\u001b[0m\u001b[0;34m\u001b[0m\u001b[0;34m\u001b[0m\u001b[0m\n\u001b[0m\u001b[1;32m    251\u001b[0m \u001b[0;34m\u001b[0m\u001b[0m\n\u001b[1;32m    252\u001b[0m     \u001b[0;31m# Set pagination mode\u001b[0m\u001b[0;34m\u001b[0m\u001b[0;34m\u001b[0m\u001b[0;34m\u001b[0m\u001b[0m\n",
      "\u001b[0;32m/usr/local/lib/python3.6/dist-packages/tweepy/binder.py\u001b[0m in \u001b[0;36mexecute\u001b[0;34m(self)\u001b[0m\n\u001b[1;32m    232\u001b[0m                     \u001b[0;32mraise\u001b[0m \u001b[0mRateLimitError\u001b[0m\u001b[0;34m(\u001b[0m\u001b[0merror_msg\u001b[0m\u001b[0;34m,\u001b[0m \u001b[0mresp\u001b[0m\u001b[0;34m)\u001b[0m\u001b[0;34m\u001b[0m\u001b[0;34m\u001b[0m\u001b[0m\n\u001b[1;32m    233\u001b[0m                 \u001b[0;32melse\u001b[0m\u001b[0;34m:\u001b[0m\u001b[0;34m\u001b[0m\u001b[0;34m\u001b[0m\u001b[0m\n\u001b[0;32m--> 234\u001b[0;31m                     \u001b[0;32mraise\u001b[0m \u001b[0mTweepError\u001b[0m\u001b[0;34m(\u001b[0m\u001b[0merror_msg\u001b[0m\u001b[0;34m,\u001b[0m \u001b[0mresp\u001b[0m\u001b[0;34m,\u001b[0m \u001b[0mapi_code\u001b[0m\u001b[0;34m=\u001b[0m\u001b[0mapi_error_code\u001b[0m\u001b[0;34m)\u001b[0m\u001b[0;34m\u001b[0m\u001b[0;34m\u001b[0m\u001b[0m\n\u001b[0m\u001b[1;32m    235\u001b[0m \u001b[0;34m\u001b[0m\u001b[0m\n\u001b[1;32m    236\u001b[0m             \u001b[0;31m# Parse the response payload\u001b[0m\u001b[0;34m\u001b[0m\u001b[0;34m\u001b[0m\u001b[0;34m\u001b[0m\u001b[0m\n",
      "\u001b[0;31mTweepError\u001b[0m: Twitter error response: status code = 401"
     ]
    }
   ],
   "source": [
    "for element in tweets:\n",
    "  print(element)"
   ]
  },
  {
   "cell_type": "markdown",
   "metadata": {
    "colab_type": "text",
    "id": "3aoA0wTCPIzx"
   },
   "source": [
    "# Información Relevante en los Tweets\n"
   ]
  },
  {
   "cell_type": "code",
   "execution_count": null,
   "metadata": {
    "colab": {
     "base_uri": "https://localhost:8080/",
     "height": 238
    },
    "colab_type": "code",
    "executionInfo": {
     "elapsed": 875,
     "status": "error",
     "timestamp": 1596391877348,
     "user": {
      "displayName": "K&G",
      "photoUrl": "https://lh3.googleusercontent.com/a-/AOh14GjQVaumWhZIDKqccYE-sTwkiM8r_K8VFADW0TAy=s64",
      "userId": "11703084203318322732"
     },
     "user_tz": -60
    },
    "id": "ALb6Bw100JCk",
    "outputId": "1018e889-c11d-49e8-d558-2b3cac7dbc29"
   },
   "outputs": [
    {
     "ename": "NameError",
     "evalue": "ignored",
     "output_type": "error",
     "traceback": [
      "\u001b[0;31m---------------------------------------------------------------------------\u001b[0m",
      "\u001b[0;31mNameError\u001b[0m                                 Traceback (most recent call last)",
      "\u001b[0;32m<ipython-input-16-fdf3ddb3ccee>\u001b[0m in \u001b[0;36m<module>\u001b[0;34m()\u001b[0m\n\u001b[0;32m----> 1\u001b[0;31m \u001b[0mprint\u001b[0m\u001b[0;34m(\u001b[0m\u001b[0;34m\"Fecha Publicación Tweet\"\u001b[0m\u001b[0;34m,\u001b[0m\u001b[0mtweet\u001b[0m\u001b[0;34m.\u001b[0m\u001b[0mcreated_at\u001b[0m\u001b[0;34m)\u001b[0m\u001b[0;34m\u001b[0m\u001b[0;34m\u001b[0m\u001b[0m\n\u001b[0m\u001b[1;32m      2\u001b[0m \u001b[0mprint\u001b[0m\u001b[0;34m(\u001b[0m\u001b[0;34m\"Ubicación\"\u001b[0m\u001b[0;34m,\u001b[0m\u001b[0mtweet\u001b[0m\u001b[0;34m.\u001b[0m\u001b[0mcoordinates\u001b[0m\u001b[0;34m)\u001b[0m\u001b[0;34m\u001b[0m\u001b[0;34m\u001b[0m\u001b[0m\n\u001b[1;32m      3\u001b[0m \u001b[0mprint\u001b[0m\u001b[0;34m(\u001b[0m\u001b[0;34m\"Metadatos\"\u001b[0m\u001b[0;34m,\u001b[0m\u001b[0mtweet\u001b[0m\u001b[0;34m.\u001b[0m\u001b[0mmetadata\u001b[0m\u001b[0;34m)\u001b[0m\u001b[0;34m\u001b[0m\u001b[0;34m\u001b[0m\u001b[0m\n\u001b[1;32m      4\u001b[0m \u001b[0mprint\u001b[0m\u001b[0;34m(\u001b[0m\u001b[0;34m\"Número de Reteweets\"\u001b[0m\u001b[0;34m,\u001b[0m \u001b[0mtweet\u001b[0m\u001b[0;34m.\u001b[0m\u001b[0mretweet_count\u001b[0m\u001b[0;34m)\u001b[0m\u001b[0;34m\u001b[0m\u001b[0;34m\u001b[0m\u001b[0m\n\u001b[1;32m      5\u001b[0m \u001b[0mprint\u001b[0m\u001b[0;34m(\u001b[0m\u001b[0;34m\"URL en el Tweet\"\u001b[0m\u001b[0;34m,\u001b[0m \u001b[0mtweet\u001b[0m\u001b[0;34m.\u001b[0m\u001b[0msource_url\u001b[0m\u001b[0;34m)\u001b[0m\u001b[0;34m\u001b[0m\u001b[0;34m\u001b[0m\u001b[0m\n",
      "\u001b[0;31mNameError\u001b[0m: name 'tweet' is not defined"
     ]
    }
   ],
   "source": [
    "print(\"Fecha Publicación Tweet\",tweet.created_at)\n",
    "print(\"Ubicación\",tweet.coordinates)\n",
    "print(\"Metadatos\",tweet.metadata)\n",
    "print(\"Número de Reteweets\", tweet.retweet_count)\n",
    "print(\"URL en el Tweet\", tweet.source_url)\n",
    "print(\"Numeró de favoritos\",tweet.favorite_count)"
   ]
  },
  {
   "cell_type": "markdown",
   "metadata": {
    "colab_type": "text",
    "id": "APsn94aoWcK-"
   },
   "source": [
    "# Limpieza de Datos"
   ]
  },
  {
   "cell_type": "code",
   "execution_count": null,
   "metadata": {
    "colab": {},
    "colab_type": "code",
    "id": "0ym1Y_8p9N6I"
   },
   "outputs": [],
   "source": [
    "def cleanTweet(tweet):\n",
    "\n",
    "        # Remove Links, Special Characters etc from tweet\n",
    "\n",
    "        return ' '.join(re.sub(\"(@[A-Za-z0-9]+)|([^0-9A-Za-z \\t]) | (\\w +:\\ / \\ / \\S +)\", \" \", tweet).split(' '))\n",
    "#out = cleanTweet(tweet.text)\n",
    "#print(out)"
   ]
  },
  {
   "cell_type": "code",
   "execution_count": null,
   "metadata": {
    "colab": {
     "base_uri": "https://localhost:8080/",
     "height": 367
    },
    "colab_type": "code",
    "executionInfo": {
     "elapsed": 979,
     "status": "error",
     "timestamp": 1596391898562,
     "user": {
      "displayName": "K&G",
      "photoUrl": "https://lh3.googleusercontent.com/a-/AOh14GjQVaumWhZIDKqccYE-sTwkiM8r_K8VFADW0TAy=s64",
      "userId": "11703084203318322732"
     },
     "user_tz": -60
    },
    "id": "gJDsr_Z49PsY",
    "outputId": "f09845b1-fd82-47b6-95f5-0b3058c59c0d"
   },
   "outputs": [
    {
     "ename": "TweepError",
     "evalue": "ignored",
     "output_type": "error",
     "traceback": [
      "\u001b[0;31m---------------------------------------------------------------------------\u001b[0m",
      "\u001b[0;31mTweepError\u001b[0m                                Traceback (most recent call last)",
      "\u001b[0;32m<ipython-input-18-f794037586bc>\u001b[0m in \u001b[0;36m<module>\u001b[0;34m()\u001b[0m\n\u001b[1;32m      1\u001b[0m \u001b[0mfinal\u001b[0m \u001b[0;34m=\u001b[0m \u001b[0;34m[\u001b[0m\u001b[0;34m]\u001b[0m\u001b[0;34m\u001b[0m\u001b[0;34m\u001b[0m\u001b[0m\n\u001b[0;32m----> 2\u001b[0;31m \u001b[0;32mfor\u001b[0m \u001b[0mtweet\u001b[0m \u001b[0;32min\u001b[0m \u001b[0mtweets\u001b[0m\u001b[0;34m:\u001b[0m\u001b[0;34m\u001b[0m\u001b[0;34m\u001b[0m\u001b[0m\n\u001b[0m\u001b[1;32m      3\u001b[0m   \u001b[0mfinal\u001b[0m\u001b[0;34m.\u001b[0m\u001b[0mappend\u001b[0m\u001b[0;34m(\u001b[0m\u001b[0mcleanTweet\u001b[0m\u001b[0;34m(\u001b[0m\u001b[0mtweet\u001b[0m\u001b[0;34m.\u001b[0m\u001b[0mtext\u001b[0m\u001b[0;34m)\u001b[0m\u001b[0;34m)\u001b[0m\u001b[0;34m\u001b[0m\u001b[0;34m\u001b[0m\u001b[0m\n\u001b[1;32m      4\u001b[0m \u001b[0mprint\u001b[0m\u001b[0;34m(\u001b[0m\u001b[0mfinal\u001b[0m\u001b[0;34m)\u001b[0m\u001b[0;34m\u001b[0m\u001b[0;34m\u001b[0m\u001b[0m\n",
      "\u001b[0;32m/usr/local/lib/python3.6/dist-packages/tweepy/cursor.py\u001b[0m in \u001b[0;36m__next__\u001b[0;34m(self)\u001b[0m\n\u001b[1;32m     47\u001b[0m \u001b[0;34m\u001b[0m\u001b[0m\n\u001b[1;32m     48\u001b[0m     \u001b[0;32mdef\u001b[0m \u001b[0m__next__\u001b[0m\u001b[0;34m(\u001b[0m\u001b[0mself\u001b[0m\u001b[0;34m)\u001b[0m\u001b[0;34m:\u001b[0m\u001b[0;34m\u001b[0m\u001b[0;34m\u001b[0m\u001b[0m\n\u001b[0;32m---> 49\u001b[0;31m         \u001b[0;32mreturn\u001b[0m \u001b[0mself\u001b[0m\u001b[0;34m.\u001b[0m\u001b[0mnext\u001b[0m\u001b[0;34m(\u001b[0m\u001b[0;34m)\u001b[0m\u001b[0;34m\u001b[0m\u001b[0;34m\u001b[0m\u001b[0m\n\u001b[0m\u001b[1;32m     50\u001b[0m \u001b[0;34m\u001b[0m\u001b[0m\n\u001b[1;32m     51\u001b[0m     \u001b[0;32mdef\u001b[0m \u001b[0mnext\u001b[0m\u001b[0;34m(\u001b[0m\u001b[0mself\u001b[0m\u001b[0;34m)\u001b[0m\u001b[0;34m:\u001b[0m\u001b[0;34m\u001b[0m\u001b[0;34m\u001b[0m\u001b[0m\n",
      "\u001b[0;32m/usr/local/lib/python3.6/dist-packages/tweepy/cursor.py\u001b[0m in \u001b[0;36mnext\u001b[0;34m(self)\u001b[0m\n\u001b[1;32m    195\u001b[0m         \u001b[0;32mif\u001b[0m \u001b[0mself\u001b[0m\u001b[0;34m.\u001b[0m\u001b[0mcurrent_page\u001b[0m \u001b[0;32mis\u001b[0m \u001b[0;32mNone\u001b[0m \u001b[0;32mor\u001b[0m \u001b[0mself\u001b[0m\u001b[0;34m.\u001b[0m\u001b[0mpage_index\u001b[0m \u001b[0;34m==\u001b[0m \u001b[0mlen\u001b[0m\u001b[0;34m(\u001b[0m\u001b[0mself\u001b[0m\u001b[0;34m.\u001b[0m\u001b[0mcurrent_page\u001b[0m\u001b[0;34m)\u001b[0m \u001b[0;34m-\u001b[0m \u001b[0;36m1\u001b[0m\u001b[0;34m:\u001b[0m\u001b[0;34m\u001b[0m\u001b[0;34m\u001b[0m\u001b[0m\n\u001b[1;32m    196\u001b[0m             \u001b[0;31m# Reached end of current page, get the next page...\u001b[0m\u001b[0;34m\u001b[0m\u001b[0;34m\u001b[0m\u001b[0;34m\u001b[0m\u001b[0m\n\u001b[0;32m--> 197\u001b[0;31m             \u001b[0mself\u001b[0m\u001b[0;34m.\u001b[0m\u001b[0mcurrent_page\u001b[0m \u001b[0;34m=\u001b[0m \u001b[0mself\u001b[0m\u001b[0;34m.\u001b[0m\u001b[0mpage_iterator\u001b[0m\u001b[0;34m.\u001b[0m\u001b[0mnext\u001b[0m\u001b[0;34m(\u001b[0m\u001b[0;34m)\u001b[0m\u001b[0;34m\u001b[0m\u001b[0;34m\u001b[0m\u001b[0m\n\u001b[0m\u001b[1;32m    198\u001b[0m             \u001b[0mself\u001b[0m\u001b[0;34m.\u001b[0m\u001b[0mpage_index\u001b[0m \u001b[0;34m=\u001b[0m \u001b[0;34m-\u001b[0m\u001b[0;36m1\u001b[0m\u001b[0;34m\u001b[0m\u001b[0;34m\u001b[0m\u001b[0m\n\u001b[1;32m    199\u001b[0m         \u001b[0mself\u001b[0m\u001b[0;34m.\u001b[0m\u001b[0mpage_index\u001b[0m \u001b[0;34m+=\u001b[0m \u001b[0;36m1\u001b[0m\u001b[0;34m\u001b[0m\u001b[0;34m\u001b[0m\u001b[0m\n",
      "\u001b[0;32m/usr/local/lib/python3.6/dist-packages/tweepy/cursor.py\u001b[0m in \u001b[0;36mnext\u001b[0;34m(self)\u001b[0m\n\u001b[1;32m    106\u001b[0m \u001b[0;34m\u001b[0m\u001b[0m\n\u001b[1;32m    107\u001b[0m         \u001b[0;32mif\u001b[0m \u001b[0mself\u001b[0m\u001b[0;34m.\u001b[0m\u001b[0mindex\u001b[0m \u001b[0;34m>=\u001b[0m \u001b[0mlen\u001b[0m\u001b[0;34m(\u001b[0m\u001b[0mself\u001b[0m\u001b[0;34m.\u001b[0m\u001b[0mresults\u001b[0m\u001b[0;34m)\u001b[0m \u001b[0;34m-\u001b[0m \u001b[0;36m1\u001b[0m\u001b[0;34m:\u001b[0m\u001b[0;34m\u001b[0m\u001b[0;34m\u001b[0m\u001b[0m\n\u001b[0;32m--> 108\u001b[0;31m             \u001b[0mdata\u001b[0m \u001b[0;34m=\u001b[0m \u001b[0mself\u001b[0m\u001b[0;34m.\u001b[0m\u001b[0mmethod\u001b[0m\u001b[0;34m(\u001b[0m\u001b[0mmax_id\u001b[0m\u001b[0;34m=\u001b[0m\u001b[0mself\u001b[0m\u001b[0;34m.\u001b[0m\u001b[0mmax_id\u001b[0m\u001b[0;34m,\u001b[0m \u001b[0mparser\u001b[0m\u001b[0;34m=\u001b[0m\u001b[0mRawParser\u001b[0m\u001b[0;34m(\u001b[0m\u001b[0;34m)\u001b[0m\u001b[0;34m,\u001b[0m \u001b[0;34m*\u001b[0m\u001b[0mself\u001b[0m\u001b[0;34m.\u001b[0m\u001b[0margs\u001b[0m\u001b[0;34m,\u001b[0m \u001b[0;34m**\u001b[0m\u001b[0mself\u001b[0m\u001b[0;34m.\u001b[0m\u001b[0mkargs\u001b[0m\u001b[0;34m)\u001b[0m\u001b[0;34m\u001b[0m\u001b[0;34m\u001b[0m\u001b[0m\n\u001b[0m\u001b[1;32m    109\u001b[0m \u001b[0;34m\u001b[0m\u001b[0m\n\u001b[1;32m    110\u001b[0m             \u001b[0;32mif\u001b[0m \u001b[0mhasattr\u001b[0m\u001b[0;34m(\u001b[0m\u001b[0mself\u001b[0m\u001b[0;34m.\u001b[0m\u001b[0mmethod\u001b[0m\u001b[0;34m,\u001b[0m \u001b[0;34m'__self__'\u001b[0m\u001b[0;34m)\u001b[0m\u001b[0;34m:\u001b[0m\u001b[0;34m\u001b[0m\u001b[0;34m\u001b[0m\u001b[0m\n",
      "\u001b[0;32m/usr/local/lib/python3.6/dist-packages/tweepy/binder.py\u001b[0m in \u001b[0;36m_call\u001b[0;34m(*args, **kwargs)\u001b[0m\n\u001b[1;32m    248\u001b[0m             \u001b[0;32mreturn\u001b[0m \u001b[0mmethod\u001b[0m\u001b[0;34m\u001b[0m\u001b[0;34m\u001b[0m\u001b[0m\n\u001b[1;32m    249\u001b[0m         \u001b[0;32melse\u001b[0m\u001b[0;34m:\u001b[0m\u001b[0;34m\u001b[0m\u001b[0;34m\u001b[0m\u001b[0m\n\u001b[0;32m--> 250\u001b[0;31m             \u001b[0;32mreturn\u001b[0m \u001b[0mmethod\u001b[0m\u001b[0;34m.\u001b[0m\u001b[0mexecute\u001b[0m\u001b[0;34m(\u001b[0m\u001b[0;34m)\u001b[0m\u001b[0;34m\u001b[0m\u001b[0;34m\u001b[0m\u001b[0m\n\u001b[0m\u001b[1;32m    251\u001b[0m \u001b[0;34m\u001b[0m\u001b[0m\n\u001b[1;32m    252\u001b[0m     \u001b[0;31m# Set pagination mode\u001b[0m\u001b[0;34m\u001b[0m\u001b[0;34m\u001b[0m\u001b[0;34m\u001b[0m\u001b[0m\n",
      "\u001b[0;32m/usr/local/lib/python3.6/dist-packages/tweepy/binder.py\u001b[0m in \u001b[0;36mexecute\u001b[0;34m(self)\u001b[0m\n\u001b[1;32m    232\u001b[0m                     \u001b[0;32mraise\u001b[0m \u001b[0mRateLimitError\u001b[0m\u001b[0;34m(\u001b[0m\u001b[0merror_msg\u001b[0m\u001b[0;34m,\u001b[0m \u001b[0mresp\u001b[0m\u001b[0;34m)\u001b[0m\u001b[0;34m\u001b[0m\u001b[0;34m\u001b[0m\u001b[0m\n\u001b[1;32m    233\u001b[0m                 \u001b[0;32melse\u001b[0m\u001b[0;34m:\u001b[0m\u001b[0;34m\u001b[0m\u001b[0;34m\u001b[0m\u001b[0m\n\u001b[0;32m--> 234\u001b[0;31m                     \u001b[0;32mraise\u001b[0m \u001b[0mTweepError\u001b[0m\u001b[0;34m(\u001b[0m\u001b[0merror_msg\u001b[0m\u001b[0;34m,\u001b[0m \u001b[0mresp\u001b[0m\u001b[0;34m,\u001b[0m \u001b[0mapi_code\u001b[0m\u001b[0;34m=\u001b[0m\u001b[0mapi_error_code\u001b[0m\u001b[0;34m)\u001b[0m\u001b[0;34m\u001b[0m\u001b[0;34m\u001b[0m\u001b[0m\n\u001b[0m\u001b[1;32m    235\u001b[0m \u001b[0;34m\u001b[0m\u001b[0m\n\u001b[1;32m    236\u001b[0m             \u001b[0;31m# Parse the response payload\u001b[0m\u001b[0;34m\u001b[0m\u001b[0;34m\u001b[0m\u001b[0;34m\u001b[0m\u001b[0m\n",
      "\u001b[0;31mTweepError\u001b[0m: Twitter error response: status code = 401"
     ]
    }
   ],
   "source": [
    "final = []\n",
    "for tweet in tweets:\n",
    "  final.append(cleanTweet(tweet.text))\n",
    "print(final)"
   ]
  },
  {
   "cell_type": "code",
   "execution_count": null,
   "metadata": {
    "colab": {
     "base_uri": "https://localhost:8080/",
     "height": 142
    },
    "colab_type": "code",
    "id": "xDFcZONC375S",
    "outputId": "a50c783e-5235-4590-b4c8-5d8e9f605603"
   },
   "outputs": [
    {
     "name": "stdout",
     "output_type": "stream",
     "text": [
      "['RT  _Priada Todos los seres vivos merecemos una vida de amor y respeto \\n\\nEste cachorro callejero apareci en un hogar empapado por la l…', 'RT   He hecho este video con mi hermano para decir que no cierren los colegios de #EducacionEspecial No creo que lo vea mucha ge…', 'RT   hola mi amor te queres casar conmigo y criar 2 carpinchos', 'Primero el trailer o cinemática original\\n\\nHacen un pequeño resumen de las facciones pasado por encima como con un https://t.co/rUlAsSkkkY']\n",
      "RT  _Priada Todos los seres vivos merecemos una vida de amor y respeto \n",
      "\n",
      "Este cachorro callejero apareci en un hogar empapado por la l…RT   He hecho este video con mi hermano para decir que no cierren los colegios de #EducacionEspecial No creo que lo vea mucha ge…RT   hola mi amor te queres casar conmigo y criar 2 carpinchosPrimero el trailer o cinemática original\n",
      "\n",
      "Hacen un pequeño resumen de las facciones pasado por encima como con un https://t.co/rUlAsSkkkY\n"
     ]
    }
   ],
   "source": []
  },
  {
   "cell_type": "code",
   "execution_count": null,
   "metadata": {
    "colab": {
     "base_uri": "https://localhost:8080/"
    },
    "colab_type": "code",
    "id": "ZrFhSm4Y6O4P",
    "outputId": "9300bb7c-44a2-4e22-e83b-6021986c96c9"
   },
   "outputs": [
    {
     "data": {
      "text/plain": [
       "279"
      ]
     },
     "execution_count": 14,
     "metadata": {
      "tags": []
     },
     "output_type": "execute_result"
    }
   ],
   "source": []
  },
  {
   "cell_type": "code",
   "execution_count": null,
   "metadata": {
    "colab": {
     "base_uri": "https://localhost:8080/",
     "height": 53
    },
    "colab_type": "code",
    "executionInfo": {
     "elapsed": 806,
     "status": "ok",
     "timestamp": 1591909099633,
     "user": {
      "displayName": "K&G",
      "photoUrl": "https://lh3.googleusercontent.com/a-/AOh14GjQVaumWhZIDKqccYE-sTwkiM8r_K8VFADW0TAy=s64",
      "userId": "11703084203318322732"
     },
     "user_tz": -60
    },
    "id": "ePwKNYvS0jCr",
    "outputId": "e140776a-f6c6-4921-d17c-67580ca22266"
   },
   "outputs": [
    {
     "name": "stdout",
     "output_type": "stream",
     "text": [
      "['RT   Coinbase announce that it might list DigiByte.\\n\\nThanks   for the shoutout \\n\\n#DigiByte is a premier UTXO/POW cry…', 'Eidoo Burns 28 Million $EDO in Preparation for Governance Token Upgrade on June 18th  [Cryptocurrency News] Sourc https://t.co/zLSj3Modlp', 'RT   Do u know H-FUNDZ TRADE is the number one trusted platform to change your Bitcoin nd giftcards to cash 💰💹💸💴💰 \\n\\nThey are…', 'Thu Jun 11 21:58:44 2020 (9:17)\\nUSD  9289.01\\nWght 0.46\\nBlk# 634267\\nSize 1298.2 KB\\nTXs  2560\\nPool 2029 (7.6 MB)\\n#bitcoin', 'RT   3 ways #BlackLivesMattters can move forward Point 1 #Bitcoin https://t.co/WiCjwc3VM2', 'RT  _R_Santos The best effective way to peacefully protest is by opting out of the current financial system that supports these crimi…', 'RT  _bayu Atomic wallet Cryptocurrency Wallet Manage your Bitcoin Ethereum XRP Litecoin XLM and over 300 other coins\\n\\nhttps://t.…', 'RT    Episode 6🚨\\n\\n LIVE #bitcoin\\xa0\\xa0Poker Game Tonight 8pm ET Here on our Twitter and   \\n\\nFollow Us to Watch th…', '        Point is If you are a Maxi \\n\\nOnly BTC is Bitcoin \\n\\nAny other ticker i https://t.co/s5gE8Ftdte', 'RT  _Macro Taxis \"Uber won\\'t work. \\n\\nHotels \"Airbnb won\\'t work. \\n\\nRetail Stores \"Amazon won\\'t work.\"\\n\\nBanks \"Bitcoin won\\'t work.\"', 'RT   Negative interest rates are destroying Europe’s finances driving demand for bitcoin and other cryptocurrencies https://…', 'Big day  for me today with stocks and Bitcoin collapsing  going to take a break for a few hours ✌️before we get b https://t.co/od6ESCaE3a', 'Pentagon Documents Reveal The U.S Has Planned For A Bitcoin Rebellion\\n\\nhttps://t.co/MaMMaV5xyK', 'RT   #Bitcoin #Satoshi #crypto #blockchain #Airdrop\\nNew Airdrop #BitMart 📢\\n\\nBitMart Airdrop is worth 200 BMX tokens (~ 3).…', 'RT   #Bitcoin is the most peaceful protest of all time!', '#bitcoin next #fed https://t.co/tjVtE9LKPV', 'Live Bitcoin and ALT coin Webinar starts in 1 hour See members area for access details https://t.co/7xxWLrMUGr https://t.co/BZS1B3SeBL', 'RT  _JackSparrow #bitcoin was a long time coming https://t.co/86QNtH5wNw', 'RT   Maru died so that Bitcoin could thrive https://t.co/0LWXsmOW1M']\n"
     ]
    }
   ],
   "source": [
    "print(final)"
   ]
  },
  {
   "cell_type": "markdown",
   "metadata": {
    "colab_type": "text",
    "id": "bn5yI5aSWr3z"
   },
   "source": [
    "# Importación de los datos a formato CSV"
   ]
  },
  {
   "cell_type": "code",
   "execution_count": null,
   "metadata": {
    "colab": {},
    "colab_type": "code",
    "id": "1UYGeiBY-b6X"
   },
   "outputs": [],
   "source": [
    "import csv\n",
    "import pandas as pd\n",
    "df = pd.DataFrame(final)\n",
    "df.columns=[\"Twitter Text\"]\n",
    "df.to_csv('tweets4.csv',index = False)\n"
   ]
  },
  {
   "cell_type": "code",
   "execution_count": null,
   "metadata": {
    "colab": {
     "base_uri": "https://localhost:8080/",
     "height": 351
    },
    "colab_type": "code",
    "executionInfo": {
     "elapsed": 666,
     "status": "ok",
     "timestamp": 1591908830161,
     "user": {
      "displayName": "K&G",
      "photoUrl": "https://lh3.googleusercontent.com/a-/AOh14GjQVaumWhZIDKqccYE-sTwkiM8r_K8VFADW0TAy=s64",
      "userId": "11703084203318322732"
     },
     "user_tz": -60
    },
    "id": "sj1veoDAE1oH",
    "outputId": "142dfdb7-31c2-4936-db22-3f3861cd0884"
   },
   "outputs": [
    {
     "name": "stdout",
     "output_type": "stream",
     "text": [
      "0.2\n",
      "0.0\n",
      "0.0\n",
      "0.0\n",
      "0.0\n",
      "0.37\n",
      "-0.125\n",
      "-0.13181818181818183\n",
      "-0.0625\n",
      "0.0\n",
      "-0.20833333333333334\n",
      "-0.1\n",
      "0.0\n",
      "0.21818181818181817\n",
      "0.40625\n",
      "0.0\n",
      "0.13636363636363635\n",
      "-0.05\n",
      "0.0\n",
      "(8, 3, 2, 0, 0, 6, 0)\n"
     ]
    }
   ],
   "source": [
    "def sentiment_analysis(tweet):\n",
    "  #polarity = 0\n",
    "  polarity = 0\n",
    "  positive = 0\n",
    "  wpositive = 0\n",
    "  spositive = 0\n",
    "  negative = 0\n",
    "  wnegative = 0\n",
    "  snegative = 0\n",
    "  neutral = 0\n",
    "  for tweet in final:\n",
    "    analysis = TextBlob(tweet)\n",
    "    print(analysis.sentiment.polarity)\n",
    "    polarity += analysis.sentiment.polarity\n",
    "    if (analysis.sentiment.polarity == 0):  # adding reaction of how people are reacting to find average later\n",
    "        neutral += 1\n",
    "    elif (analysis.sentiment.polarity > 0 and analysis.sentiment.polarity <= 0.3):\n",
    "        wpositive += 1\n",
    "    elif (analysis.sentiment.polarity > 0.3 and analysis.sentiment.polarity <= 0.6):\n",
    "        positive += 1\n",
    "    elif (analysis.sentiment.polarity > 0.6 and analysis.sentiment.polarity <= 1):\n",
    "        spositive += 1\n",
    "    elif (analysis.sentiment.polarity > -0.3 and analysis.sentiment.polarity <= 0):\n",
    "        wnegative += 1\n",
    "    elif (analysis.sentiment.polarity > -0.6 and analysis.sentiment.polarity <= -0.3):\n",
    "        negative += 1\n",
    "    elif (analysis.sentiment.polarity > -1 and analysis.sentiment.polarity <= -0.6):\n",
    "        snegative += 1\n",
    "\n",
    "\n",
    "\n",
    "  return neutral,wpositive,positive,spositive,negative,wnegative,snegative\n",
    "lst_sentimientos = []\n",
    "lst_sentimientos = sentiment_analysis(final)\n",
    "print(lst_sentimientos)"
   ]
  },
  {
   "cell_type": "code",
   "execution_count": null,
   "metadata": {
    "colab": {},
    "colab_type": "code",
    "id": "G975altwmwn_"
   },
   "outputs": [],
   "source": [
    "def percentage(part, whole):\n",
    "  temp = 100 * float(part) / float(whole)\n",
    "\n",
    "  return format(temp, '.2f')"
   ]
  },
  {
   "cell_type": "code",
   "execution_count": null,
   "metadata": {
    "colab": {},
    "colab_type": "code",
    "id": "lsMH81dgm84b"
   },
   "outputs": [],
   "source": [
    "num_elements = len(final)\n",
    "neutral =percentage(lst_sentimientos[0],num_elements)\n",
    "wpositivo = percentage(lst_sentimientos[1],num_elements)\n",
    "positivo = percentage(lst_sentimientos[2],num_elements)\n",
    "spositivo = percentage(lst_sentimientos[3],num_elements)\n",
    "negativo = percentage(lst_sentimientos[4],num_elements)\n",
    "wnegativo = percentage(lst_sentimientos[5],num_elements)\n",
    "snegativo = percentage(lst_sentimientos[6],num_elements)"
   ]
  },
  {
   "cell_type": "markdown",
   "metadata": {
    "colab_type": "text",
    "id": "Kl46cPTHOYun"
   },
   "source": [
    "# Visualización de los Tweets"
   ]
  },
  {
   "cell_type": "code",
   "execution_count": null,
   "metadata": {
    "colab": {
     "base_uri": "https://localhost:8080/",
     "height": 52
    },
    "colab_type": "code",
    "id": "EVF1P81sCp3p",
    "outputId": "742f6357-92e6-4eff-c39a-43150513b609"
   },
   "outputs": [
    {
     "name": "stdout",
     "output_type": "stream",
     "text": [
      "********Resultados*******\n",
      "55.56\n"
     ]
    }
   ],
   "source": []
  },
  {
   "cell_type": "code",
   "execution_count": null,
   "metadata": {
    "colab": {
     "base_uri": "https://localhost:8080/",
     "height": 297
    },
    "colab_type": "code",
    "executionInfo": {
     "elapsed": 673,
     "status": "ok",
     "timestamp": 1591908877447,
     "user": {
      "displayName": "K&G",
      "photoUrl": "https://lh3.googleusercontent.com/a-/AOh14GjQVaumWhZIDKqccYE-sTwkiM8r_K8VFADW0TAy=s64",
      "userId": "11703084203318322732"
     },
     "user_tz": -60
    },
    "id": "_0ai2TwYO8MX",
    "outputId": "226076b6-f4bf-47c1-df69-3780985c1bb0"
   },
   "outputs": [
    {
     "data": {
      "image/png": "[encoded data removed]",
      "text/plain": [
       "<Figure size 432x288 with 1 Axes>"
      ]
     },
     "metadata": {
      "tags": []
     },
     "output_type": "display_data"
    }
   ],
   "source": [
    "def visualizacion(neutral,positivo,wpositvo,spositvo,negativo,wnegativo,snegativo,searchTerm,NoOfTerms):\n",
    "  labels = ['Positive [' + str(positivo) + '%]', 'Weakly Positive [' + str(wpositivo) + '%]','Strongly Positive [' + str(spositivo) + '%]', 'Neutral [' + str(neutral) + '%]',\n",
    "  'Negative [' + str(negativo) + '%]', 'Weakly Negative [' + str(wnegativo) + '%]', 'Strongly Negative [' + str(snegativo) + '%]']\n",
    "  sizes = [positivo, wpositivo, spositivo, neutral, negativo, wnegativo, snegativo]\n",
    "  colors = ['yellowgreen','lightgreen','darkgreen', 'gold', 'red','lightsalmon','darkred']\n",
    "  patches, texts = plt.pie(sizes, colors=colors, startangle=90)\n",
    "  plt.legend(patches, labels, loc=\"best\")\n",
    "  plt.title('How people are reacting on ' + searchTerm + ' by analyzing ' + str(NoOfTerms) + ' Tweets.')\n",
    "  plt.axis('equal')\n",
    "  plt.tight_layout()\n",
    "  plt.show()\n",
    "\n",
    "visualizacion(neutral,positivo,wpositivo,spositivo,negativo,wnegativo,snegativo,searchTerm,NoOfTerms)"
   ]
  }
 ],
 "metadata": {
  "colab": {
   "collapsed_sections": [],
   "name": "tweeter_basic.ipynb",
   "provenance": []
  },
  "kernelspec": {
   "display_name": "Python 3",
   "language": "python",
   "name": "python3"
  },
  "language_info": {
   "codemirror_mode": {
    "name": "ipython",
    "version": 3
   },
   "file_extension": ".py",
   "mimetype": "text/x-python",
   "name": "python",
   "nbconvert_exporter": "python",
   "pygments_lexer": "ipython3",
   "version": "3.7.7"
  }
 },
 "nbformat": 4,
 "nbformat_minor": 1
}
